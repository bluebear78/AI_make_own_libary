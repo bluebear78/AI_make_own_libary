{
 "cells": [
  {
   "cell_type": "code",
   "execution_count": 1,
   "metadata": {},
   "outputs": [],
   "source": [
    "import numpy as np\n",
    "import pandas as pd"
   ]
  },
  {
   "cell_type": "code",
   "execution_count": 21,
   "metadata": {},
   "outputs": [],
   "source": [
    "\n",
    "class SGD:\n",
    "    def __init__(self, fit_intercept=True, copy_X=True,\n",
    "                 alpha=0.0001, epochs=100000, weight_decay=0.9,batch_size=1,shuffle=True):\n",
    "        self.fit_intercept = fit_intercept\n",
    "        self.copy_X = copy_X\n",
    "        self._alpha = alpha\n",
    "        self._epochs = epochs\n",
    "        self._BATCH_SIZE = batch_size\n",
    "        self._cost_history = []\n",
    "\n",
    "        self._coef = None\n",
    "        self._intercept = None\n",
    "        self._new_X = None\n",
    "        self._w_history = None\n",
    "        self._weight_decay = weight_decay\n",
    "\n",
    "    def cost(self, h, y):\n",
    "        m = y.size\n",
    "        predictions = h\n",
    "        sqErrors = (predictions - y)\n",
    "\n",
    "        J = (1.0/(2*m)) * sqErrors.T.dot(sqErrors)\n",
    "        return J\n",
    "\n",
    "    def hypothesis_function(self, X, theta):\n",
    "        return X.dot(theta)\n",
    "\n",
    "    def gradient(self, X, theta):\n",
    "        predictions = X.dot(theta)\n",
    "        m = X.shape[0]\n",
    "        for i in range(theta.size):\n",
    "            partial_marginal = X[:,i]\n",
    "            errors_xi = (predictions - y) * partial_marginal\n",
    "            theta[i] = theta[i] - self._alpha * (1.0/m) * errors_xi.sum()\n",
    "        return theta\n",
    "    \n",
    "    def fit(self,X,y):\n",
    "        if self.fit_intercept == True:\n",
    "            make_ones = k = np.ones([X.shape[0],1])\n",
    "            np.hstack((make_ones,X))\n",
    "        \n",
    "        cost_history = []\n",
    "        theta_history = []\n",
    "\n",
    "        theta = np.random.normal((X.shape[0],1))\n",
    "        \n",
    "        for _ in range(self._epochs):\n",
    "            self.X_copy = np.copy(X)\n",
    "            \n",
    "            if self.is_SGD:\n",
    "                shuffle_index = np.random.shuffle(self.X_copy.shape[0])\n",
    "            batch = len(self.X_copy) // self._BATCH_SIZE\n",
    "            \n",
    "            for batch_count in range(batch):\n",
    "                X_batch = np.copy(X_copy[batch_count*self.BATCH_SIZE : (batch_count+1)*BATCH_SIZE])\n",
    "                theta = self.gradient(X_batch,theta)#theta값 수정 필요...\n",
    "            print(\"Number of epoch : %d\" %epoch)\n",
    "            if _ % 1000 == 0:\n",
    "                theta_history.append(theta)\n",
    "                cost_history.append(self.cost(self.hypothesis_function(X,theta),y))\n",
    "        self._coef = theta\n",
    "        return theta,np.array(cost_history),np.array(theta_history)\n",
    "\n",
    "        \n",
    "        \n",
    "    def predict(self, X):\n",
    "        return X.dot(self.coef)\n",
    "        \n",
    "\n",
    "    @property\n",
    "    def coef(self):\n",
    "        return self._coef\n",
    "\n",
    "    @property\n",
    "    def intercept(self):\n",
    "        return self._intercept\n",
    "\n",
    "    @property\n",
    "    def weights_history(self):\n",
    "        return np.array(self._w_history)\n",
    "\n",
    "    @property\n",
    "    def cost_history(self):\n",
    "        return self._cost_history\n"
   ]
  },
  {
   "cell_type": "code",
   "execution_count": 22,
   "metadata": {},
   "outputs": [],
   "source": [
    "from sklearn.datasets.samples_generator import make_regression"
   ]
  },
  {
   "cell_type": "code",
   "execution_count": 23,
   "metadata": {},
   "outputs": [],
   "source": [
    "X,y = make_regression(n_samples=1000,n_features=1,noise=10,random_state=42)"
   ]
  },
  {
   "cell_type": "code",
   "execution_count": 24,
   "metadata": {},
   "outputs": [],
   "source": [
    "sgd_lr = SGD(alpha=0.001,epochs=10000,batch_size=10,shuffle=True)"
   ]
  },
  {
   "cell_type": "code",
   "execution_count": null,
   "metadata": {},
   "outputs": [],
   "source": []
  }
 ],
 "metadata": {
  "kernelspec": {
   "display_name": "Python 3",
   "language": "python",
   "name": "python3"
  },
  "language_info": {
   "codemirror_mode": {
    "name": "ipython",
    "version": 3
   },
   "file_extension": ".py",
   "mimetype": "text/x-python",
   "name": "python",
   "nbconvert_exporter": "python",
   "pygments_lexer": "ipython3",
   "version": "3.8.5"
  }
 },
 "nbformat": 4,
 "nbformat_minor": 4
}
