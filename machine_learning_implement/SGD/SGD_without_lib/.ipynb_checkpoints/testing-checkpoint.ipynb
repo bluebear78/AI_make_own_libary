{
 "cells": [
  {
   "cell_type": "code",
   "execution_count": 2,
   "metadata": {},
   "outputs": [],
   "source": [
    "import numpy as np\n",
    "import pandas as pd"
   ]
  },
  {
   "cell_type": "code",
   "execution_count": 21,
   "metadata": {},
   "outputs": [],
   "source": [
    "\n",
    "class SGD:\n",
    "    def __init__(self, fit_intercept=True, copy_X=True,\n",
    "                 alpha=0.0001, epochs=100000, weight_decay=0.9,batch_size=1,shuffle=True):\n",
    "        self.fit_intercept = fit_intercept\n",
    "        self.copy_X = copy_X\n",
    "        self._alpha = alpha\n",
    "        self._epochs = epochs\n",
    "        self._BATCH_SIZE = batch_size\n",
    "        self._cost_history = []\n",
    "\n",
    "        self._coef = None\n",
    "        self._intercept = None\n",
    "        self._new_X = None\n",
    "        self._w_history = None\n",
    "        self._weight_decay = weight_decay\n",
    "\n",
    "    def cost(self, h, y):\n",
    "        m = y.size\n",
    "        predictions = h\n",
    "        sqErrors = (predictions - y)\n",
    "\n",
    "        J = (1.0/(2*m)) * sqErrors.T.dot(sqErrors)\n",
    "        return J\n",
    "\n",
    "    def hypothesis_function(self, X, theta):\n",
    "        return X.dot(theta)\n",
    "\n",
    "    def gradient(self, X, theta):\n",
    "        predictions = X.dot(theta)\n",
    "        m = X.shape[0]\n",
    "        for i in range(theta.size):\n",
    "            partial_marginal = X[:,i]\n",
    "            errors_xi = (predictions - y) * partial_marginal\n",
    "            theta[i] = theta[i] - self._alpha * (1.0/m) * errors_xi.sum()\n",
    "        return theta\n",
    "    \n",
    "    def fit(self,X,y):\n",
    "        if self.fit_intercept == True:\n",
    "            make_ones = k = np.ones([X.shape[0],1])\n",
    "            np.hstack((make_ones,X))\n",
    "        \n",
    "        cost_history = []\n",
    "        theta_history = []\n",
    "\n",
    "        theta = np.random.normal((X.shape[0],1))\n",
    "        \n",
    "        for _ in range(self._epochs):\n",
    "            self.X_copy = np.copy(X)\n",
    "            \n",
    "            if self.is_SGD:\n",
    "                shuffle_index = np.random.shuffle(self.X_copy.shape[0])\n",
    "            batch = len(self.X_copy) // self._BATCH_SIZE\n",
    "            \n",
    "            for batch_count in range(batch):\n",
    "                X_batch = np.copy(X_copy[batch_count*self.BATCH_SIZE : (batch_count+1)*BATCH_SIZE])\n",
    "                theta = self.gradient(X_batch,theta)#theta값 수정 필요...\n",
    "            print(\"Number of epoch : %d\" %epoch)\n",
    "            if _ % 1000 == 0:\n",
    "                theta_history.append(theta)\n",
    "                cost_history.append(self.cost(self.hypothesis_function(X,theta),y))\n",
    "        self._coef = theta\n",
    "        return theta,np.array(cost_history),np.array(theta_history)\n",
    "\n",
    "        \n",
    "        \n",
    "    def predict(self, X):\n",
    "        return X.dot(self.coef)\n",
    "        \n",
    "\n",
    "    @property\n",
    "    def coef(self):\n",
    "        return self._coef\n",
    "\n",
    "    @property\n",
    "    def intercept(self):\n",
    "        return self._intercept\n",
    "\n",
    "    @property\n",
    "    def weights_history(self):\n",
    "        return np.array(self._w_history)\n",
    "\n",
    "    @property\n",
    "    def cost_history(self):\n",
    "        return self._cost_history\n"
   ]
  },
  {
   "cell_type": "code",
   "execution_count": 22,
   "metadata": {},
   "outputs": [],
   "source": [
    "from sklearn.datasets.samples_generator import make_regression"
   ]
  },
  {
   "cell_type": "code",
   "execution_count": 23,
   "metadata": {},
   "outputs": [],
   "source": [
    "X,y = make_regression(n_samples=1000,n_features=1,noise=10,random_state=42)"
   ]
  },
  {
   "cell_type": "code",
   "execution_count": 24,
   "metadata": {},
   "outputs": [],
   "source": [
    "sgd_lr = SGD(alpha=0.001,epochs=10000,batch_size=10,shuffle=True)"
   ]
  },
  {
   "cell_type": "code",
   "execution_count": null,
   "metadata": {},
   "outputs": [],
   "source": []
  },
  {
   "cell_type": "code",
   "execution_count": null,
   "metadata": {},
   "outputs": [],
   "source": []
  },
  {
   "cell_type": "code",
   "execution_count": null,
   "metadata": {},
   "outputs": [],
   "source": []
  },
  {
   "cell_type": "code",
   "execution_count": 3,
   "metadata": {},
   "outputs": [],
   "source": [
    "X = np.array([[1,2],[2,4],[5,8]])"
   ]
  },
  {
   "cell_type": "code",
   "execution_count": 11,
   "metadata": {},
   "outputs": [],
   "source": [
    "theta = np.random.normal((X.shape[0],1))"
   ]
  },
  {
   "cell_type": "code",
   "execution_count": 16,
   "metadata": {},
   "outputs": [
    {
     "data": {
      "text/plain": [
       "array([[1, 2],\n",
       "       [2, 4],\n",
       "       [5, 8]])"
      ]
     },
     "execution_count": 16,
     "metadata": {},
     "output_type": "execute_result"
    }
   ],
   "source": [
    "X"
   ]
  },
  {
   "cell_type": "code",
   "execution_count": 15,
   "metadata": {},
   "outputs": [
    {
     "data": {
      "text/plain": [
       "array([ 2.3294799 ,  4.65895981, 11.4630002 ])"
      ]
     },
     "execution_count": 15,
     "metadata": {},
     "output_type": "execute_result"
    }
   ],
   "source": [
    "X.dot(theta)"
   ]
  },
  {
   "cell_type": "code",
   "execution_count": 17,
   "metadata": {},
   "outputs": [
    {
     "data": {
      "text/plain": [
       "array([2.14508058, 0.09219966])"
      ]
     },
     "execution_count": 17,
     "metadata": {},
     "output_type": "execute_result"
    }
   ],
   "source": [
    "theta"
   ]
  },
  {
   "cell_type": "code",
   "execution_count": 18,
   "metadata": {},
   "outputs": [
    {
     "data": {
      "text/plain": [
       "array([1, 2, 5])"
      ]
     },
     "execution_count": 18,
     "metadata": {},
     "output_type": "execute_result"
    }
   ],
   "source": [
    "X[:,0]"
   ]
  },
  {
   "cell_type": "code",
   "execution_count": 20,
   "metadata": {},
   "outputs": [],
   "source": [
    "y = np.array([4,8,12])"
   ]
  },
  {
   "cell_type": "code",
   "execution_count": 35,
   "metadata": {},
   "outputs": [],
   "source": [
    "hypp = X.dot(theta) - y"
   ]
  },
  {
   "cell_type": "code",
   "execution_count": 36,
   "metadata": {},
   "outputs": [
    {
     "data": {
      "text/plain": [
       "array([-1.6705201 , -3.34104019, -0.5369998 ])"
      ]
     },
     "execution_count": 36,
     "metadata": {},
     "output_type": "execute_result"
    }
   ],
   "source": [
    "(X.dot(theta) - y)"
   ]
  },
  {
   "cell_type": "code",
   "execution_count": 67,
   "metadata": {},
   "outputs": [
    {
     "data": {
      "text/plain": [
       "array([-1.6705201 , -3.34104019, -0.5369998 ])"
      ]
     },
     "execution_count": 67,
     "metadata": {},
     "output_type": "execute_result"
    }
   ],
   "source": [
    "(X.dot(theta) - y)"
   ]
  },
  {
   "cell_type": "code",
   "execution_count": 69,
   "metadata": {},
   "outputs": [
    {
     "data": {
      "text/plain": [
       "array([[1, 2],\n",
       "       [1, 2],\n",
       "       [1, 2]])"
      ]
     },
     "execution_count": 69,
     "metadata": {},
     "output_type": "execute_result"
    }
   ],
   "source": [
    "X = np.array([[1,2],[1,2],[1,2]])\n",
    "X"
   ]
  },
  {
   "cell_type": "code",
   "execution_count": 73,
   "metadata": {},
   "outputs": [
    {
     "data": {
      "text/plain": [
       "array([-0.0554856, -0.1109712])"
      ]
     },
     "execution_count": 73,
     "metadata": {},
     "output_type": "execute_result"
    }
   ],
   "source": [
    "0.01*hypp.dot(X)"
   ]
  },
  {
   "cell_type": "code",
   "execution_count": 74,
   "metadata": {},
   "outputs": [
    {
     "data": {
      "text/plain": [
       "array([2.14508058, 0.09219966])"
      ]
     },
     "execution_count": 74,
     "metadata": {},
     "output_type": "execute_result"
    }
   ],
   "source": [
    "theta"
   ]
  },
  {
   "cell_type": "code",
   "execution_count": 78,
   "metadata": {},
   "outputs": [
    {
     "data": {
      "text/plain": [
       "array([2.1469301, 0.0958987])"
      ]
     },
     "execution_count": 78,
     "metadata": {},
     "output_type": "execute_result"
    }
   ],
   "source": [
    "theta - 0.001*hypp.dot(X)*(1.0/X.shape[0])"
   ]
  },
  {
   "cell_type": "code",
   "execution_count": 104,
   "metadata": {},
   "outputs": [],
   "source": [
    "class SGD:\n",
    "    def __init__(self, fit_intercept=True, copy_X=True,\n",
    "                 alpha=0.0001, epochs=1000000, weight_decay=0.9,batch_size=1):\n",
    "        self.fit_intercept = fit_intercept\n",
    "        self.copy_X = copy_X\n",
    "        self._alpha = alpha\n",
    "        self._epochs = epochs\n",
    "        self._batch = batch_size\n",
    "\n",
    "        self._cost_history = []\n",
    "\n",
    "        self._coef = None\n",
    "        self._intercept = None\n",
    "        self._new_X = None\n",
    "        self._w_history = None\n",
    "        self._weight_decay = weight_decay\n",
    "\n",
    "    def cost(self, h, y):\n",
    "        m = y.size\n",
    "        predictions = h\n",
    "        sqErrors = (predictions - y)\n",
    "\n",
    "        J = (1.0/(2*m)) * sqErrors.T.dot(sqErrors)\n",
    "        return J\n",
    "\n",
    "    def hypothesis_function(self, X, theta):\n",
    "        return X.dot(theta)\n",
    "\n",
    "    def gradient(self, X, theta):\n",
    "        predictions = X.dot(theta)\n",
    "        m = X.shape[0]\n",
    "        \n",
    "        hypo = (predictions-y).dot(X)\n",
    "        theta = theta - self._alpha * (1.0/m) * hypo\n",
    "        \n",
    "        return theta\n",
    "    \n",
    "    def fit(self,X,y):\n",
    "        if self.fit_intercept == True:\n",
    "            make_ones = k = np.ones([X.shape[0],1])\n",
    "            np.hstack((make_ones,X))\n",
    "        \n",
    "        cost_history = []\n",
    "        theta_history = []\n",
    "\n",
    "        theta = np.random.normal((X.shape[0],1))\n",
    "        \n",
    "        for _ in range(self._epochs):\n",
    "            X_copy = np.copy(X)\n",
    "            index = np.array(range(0,X.shape[0]))\n",
    "            if self.is_SGD:\n",
    "                np.random.shuffle(index)\n",
    "                \n",
    "                #np.random.shuffle(X_copy)\n",
    "            batch  = len(X_copy) // self._batch\n",
    "            \n",
    "            for batch_count in range(batch):\n",
    "                X_batch = X_copy[index][:batch]\n",
    "                theta_batch = X_batch[index][:batch]\n",
    "                theta_batch = self.gradient(X_batch,theta_batch)\n",
    "                #np.concatenate((tt,X[index][:x*-1]),axis=0)\n",
    "                theta = np.concatenate((theta_batch,theta_batch[index][:batch*-1]),axis=0)\n",
    "                X_copy = X_copy[index]\n",
    "            \n",
    "            if _ % 1000 == 0:\n",
    "                theta_history.append(theta)\n",
    "                cost_history.append(self.cost(self.hypothesis_function(X,theta),y))\n",
    "        \n",
    "        self._coef = theta\n",
    "        return theta,np.array(cost_history),np.array(theta_history)\n",
    "\n",
    "        \n",
    "        \n",
    "    def predict(self, X):\n",
    "        return X.dot(self.coef)\n",
    "\n",
    "    @property\n",
    "    def coef(self):\n",
    "        return self._coef\n",
    "\n",
    "    @property\n",
    "    def intercept(self):\n",
    "        return self._intercept\n",
    "\n",
    "    @property\n",
    "    def weights_history(self):\n",
    "        return np.array(self._w_history)\n",
    "\n",
    "    @property\n",
    "    def cost_history(self):\n",
    "        return self._cost_history\n"
   ]
  },
  {
   "cell_type": "code",
   "execution_count": 105,
   "metadata": {},
   "outputs": [],
   "source": [
    "X = np.array([[1,2],[1,4],[1,5]])\n",
    "y = np.array([4,8,12])\n",
    "#my_sgd = SGD(fit_intercept=True)\n",
    "#my_sgd.fit(X,y)"
   ]
  },
  {
   "cell_type": "code",
   "execution_count": 87,
   "metadata": {},
   "outputs": [],
   "source": [
    "from sklearn import linear_model "
   ]
  },
  {
   "cell_type": "code",
   "execution_count": 88,
   "metadata": {},
   "outputs": [],
   "source": [
    "regr = linear_model.LinearRegression()"
   ]
  },
  {
   "cell_type": "code",
   "execution_count": 90,
   "metadata": {},
   "outputs": [
    {
     "data": {
      "text/plain": [
       "LinearRegression()"
      ]
     },
     "execution_count": 90,
     "metadata": {},
     "output_type": "execute_result"
    }
   ],
   "source": [
    "regr.fit(X,y)"
   ]
  },
  {
   "cell_type": "code",
   "execution_count": 96,
   "metadata": {},
   "outputs": [],
   "source": [
    "testX = np.array([[6,2],[2,4],[4,5]])"
   ]
  },
  {
   "cell_type": "code",
   "execution_count": 102,
   "metadata": {},
   "outputs": [
    {
     "data": {
      "text/plain": [
       "array([ 3.71428571,  8.85714286, 11.42857143])"
      ]
     },
     "execution_count": 102,
     "metadata": {},
     "output_type": "execute_result"
    }
   ],
   "source": [
    "regr.predict(X)"
   ]
  },
  {
   "cell_type": "code",
   "execution_count": 131,
   "metadata": {},
   "outputs": [],
   "source": [
    "X = np.array([[1,2],[1,4],[1,5],[4,5],[6,29]])\n",
    "y = np.array([4,8,12,6,3,52])"
   ]
  },
  {
   "cell_type": "code",
   "execution_count": 123,
   "metadata": {},
   "outputs": [],
   "source": [
    "np.random.shuffle(X)"
   ]
  },
  {
   "cell_type": "code",
   "execution_count": 132,
   "metadata": {},
   "outputs": [],
   "source": [
    "index = np.array(range(0,X.shape[0]))"
   ]
  },
  {
   "cell_type": "code",
   "execution_count": 189,
   "metadata": {},
   "outputs": [
    {
     "data": {
      "text/plain": [
       "array([4, 0, 1, 4, 0, 3])"
      ]
     },
     "execution_count": 189,
     "metadata": {},
     "output_type": "execute_result"
    }
   ],
   "source": [
    "np.random.randint(0,X.shape[0],size=X.shape[0]+1)"
   ]
  },
  {
   "cell_type": "code",
   "execution_count": 137,
   "metadata": {},
   "outputs": [
    {
     "data": {
      "text/plain": [
       "array([3, 4, 2, 0, 1])"
      ]
     },
     "execution_count": 137,
     "metadata": {},
     "output_type": "execute_result"
    }
   ],
   "source": [
    "index"
   ]
  },
  {
   "cell_type": "code",
   "execution_count": 139,
   "metadata": {},
   "outputs": [
    {
     "data": {
      "text/plain": [
       "(array([[ 4,  5],\n",
       "        [ 6, 29],\n",
       "        [ 1,  5],\n",
       "        [ 1,  2],\n",
       "        [ 1,  4]]),\n",
       " array([[ 1,  2],\n",
       "        [ 1,  4],\n",
       "        [ 1,  5],\n",
       "        [ 4,  5],\n",
       "        [ 6, 29]]))"
      ]
     },
     "execution_count": 139,
     "metadata": {},
     "output_type": "execute_result"
    }
   ],
   "source": [
    "X[index],X"
   ]
  },
  {
   "cell_type": "code",
   "execution_count": 148,
   "metadata": {},
   "outputs": [],
   "source": [
    "tt = X[index][:3]"
   ]
  },
  {
   "cell_type": "code",
   "execution_count": 179,
   "metadata": {},
   "outputs": [
    {
     "data": {
      "text/plain": [
       "array([[ 5,  6],\n",
       "       [ 7, 30],\n",
       "       [ 2,  6]])"
      ]
     },
     "execution_count": 179,
     "metadata": {},
     "output_type": "execute_result"
    }
   ],
   "source": [
    "tt"
   ]
  },
  {
   "cell_type": "code",
   "execution_count": 181,
   "metadata": {},
   "outputs": [],
   "source": [
    "tt = X[index][:3] + 1\n",
    "x =3 "
   ]
  },
  {
   "cell_type": "code",
   "execution_count": 182,
   "metadata": {},
   "outputs": [
    {
     "data": {
      "text/plain": [
       "array([[ 5,  6],\n",
       "       [ 7, 30],\n",
       "       [ 2,  6],\n",
       "       [ 4,  5],\n",
       "       [ 6, 29]])"
      ]
     },
     "execution_count": 182,
     "metadata": {},
     "output_type": "execute_result"
    }
   ],
   "source": [
    "np.concatenate((tt,X[index][:x*-1]),axis=0)"
   ]
  },
  {
   "cell_type": "code",
   "execution_count": 168,
   "metadata": {},
   "outputs": [
    {
     "data": {
      "text/plain": [
       "array([[ 4,  5],\n",
       "       [ 6, 29],\n",
       "       [ 1,  5],\n",
       "       [ 1,  2],\n",
       "       [ 1,  4]])"
      ]
     },
     "execution_count": 168,
     "metadata": {},
     "output_type": "execute_result"
    }
   ],
   "source": [
    "X[index]"
   ]
  },
  {
   "cell_type": "code",
   "execution_count": null,
   "metadata": {},
   "outputs": [],
   "source": []
  }
 ],
 "metadata": {
  "kernelspec": {
   "display_name": "Python 3",
   "language": "python",
   "name": "python3"
  },
  "language_info": {
   "codemirror_mode": {
    "name": "ipython",
    "version": 3
   },
   "file_extension": ".py",
   "mimetype": "text/x-python",
   "name": "python",
   "nbconvert_exporter": "python",
   "pygments_lexer": "ipython3",
   "version": "3.8.5"
  }
 },
 "nbformat": 4,
 "nbformat_minor": 4
}
